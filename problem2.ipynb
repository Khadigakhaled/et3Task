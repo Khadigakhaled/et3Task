{
  "nbformat": 4,
  "nbformat_minor": 0,
  "metadata": {
    "colab": {
      "provenance": []
    },
    "kernelspec": {
      "name": "python3",
      "display_name": "Python 3"
    },
    "language_info": {
      "name": "python"
    }
  },
  "cells": [
    {
      "cell_type": "code",
      "execution_count": 1,
      "metadata": {
        "id": "HTcZadpQQSGD"
      },
      "outputs": [],
      "source": [
        "import json"
      ]
    },
    {
      "cell_type": "code",
      "source": [
        "txt_file_path = 'image1.txt'\n",
        "json_file_path = 'image.json'"
      ],
      "metadata": {
        "id": "jqtKzePMQY2g"
      },
      "execution_count": 13,
      "outputs": []
    },
    {
      "cell_type": "code",
      "source": [
        "json_data = {\n",
        "    \"image rotation\": 0,\n",
        "    \"value\": []\n",
        "}"
      ],
      "metadata": {
        "id": "351iiI99Qjoa"
      },
      "execution_count": 14,
      "outputs": []
    },
    {
      "cell_type": "code",
      "source": [
        "with open(txt_file_path, 'r') as txt_file:\n",
        "    lines = txt_file.readlines()\n"
      ],
      "metadata": {
        "id": "PAw0y0NSQmGJ"
      },
      "execution_count": 15,
      "outputs": []
    },
    {
      "cell_type": "code",
      "source": [
        "for line in lines:\n",
        "    data = line.strip().split()\n",
        "    x = float(data[1])\n",
        "    y = float(data[2])\n",
        "    width = float(data[3]) * 100\n",
        "    height = float(data[4]) * 100\n",
        "    label = \"object\"\n",
        "\n",
        "    json_data[\"value\"].append({\n",
        "        \"x\": x,\n",
        "        \"y\": y,\n",
        "        \"width\": width,\n",
        "        \"height\": height,\n",
        "        \"rotation\": 0,\n",
        "        \"rectanglelabels\": [label]\n",
        "    })"
      ],
      "metadata": {
        "id": "UYhwOGaqQoF2"
      },
      "execution_count": 16,
      "outputs": []
    },
    {
      "cell_type": "code",
      "source": [
        "with open(json_file_path, 'w') as json_file:\n",
        "    json.dump(json_data, json_file)"
      ],
      "metadata": {
        "id": "C53qzZRjQuPP"
      },
      "execution_count": 17,
      "outputs": []
    },
    {
      "cell_type": "code",
      "source": [],
      "metadata": {
        "id": "PIr2oeFGQxta"
      },
      "execution_count": null,
      "outputs": []
    }
  ]
}