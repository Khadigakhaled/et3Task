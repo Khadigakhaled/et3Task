{
  "nbformat": 4,
  "nbformat_minor": 0,
  "metadata": {
    "colab": {
      "provenance": []
    },
    "kernelspec": {
      "name": "python3",
      "display_name": "Python 3"
    },
    "language_info": {
      "name": "python"
    }
  },
  "cells": [
    {
      "cell_type": "code",
      "execution_count": 1,
      "metadata": {
        "colab": {
          "base_uri": "https://localhost:8080/"
        },
        "id": "QkbGTVSYeGge",
        "outputId": "799c0216-4c2a-42c6-9bf0-59451c935e31"
      },
      "outputs": [
        {
          "output_type": "stream",
          "name": "stdout",
          "text": [
            "Archive:  /content/dairies.zip\n",
            "   creating: dairies/\n",
            "   creating: dairies/Arla-Ecological-Medium-Fat-Milk/\n",
            "  inflating: dairies/Arla-Ecological-Medium-Fat-Milk/Arla-Ecological-Medium-Fat-Milk_001.jpg  \n",
            "  inflating: dairies/Arla-Ecological-Medium-Fat-Milk/Arla-Ecological-Medium-Fat-Milk_002.jpg  \n",
            "  inflating: dairies/Arla-Ecological-Medium-Fat-Milk/Arla-Ecological-Medium-Fat-Milk_003.jpg  \n",
            "  inflating: dairies/Arla-Ecological-Medium-Fat-Milk/Arla-Ecological-Medium-Fat-Milk_004.jpg  \n",
            "  inflating: dairies/Arla-Ecological-Medium-Fat-Milk/Arla-Ecological-Medium-Fat-Milk_005.jpg  \n",
            "   creating: dairies/Arla-Medium-Fat-Milk/\n",
            "  inflating: dairies/Arla-Medium-Fat-Milk/Arla-Medium-Fat-Milk_001.jpg  \n",
            "  inflating: dairies/Arla-Medium-Fat-Milk/Arla-Medium-Fat-Milk_002.jpg  \n",
            "  inflating: dairies/Arla-Medium-Fat-Milk/Arla-Medium-Fat-Milk_003.jpg  \n",
            "  inflating: dairies/Arla-Medium-Fat-Milk/Arla-Medium-Fat-Milk_004.jpg  \n",
            "   creating: dairies/Arla-Standard-Milk/\n",
            "  inflating: dairies/Arla-Standard-Milk/Arla-Standard-Milk_001.jpg  \n",
            "  inflating: dairies/Arla-Standard-Milk/Arla-Standard-Milk_002.jpg  \n",
            "  inflating: dairies/Arla-Standard-Milk/Arla-Standard-Milk_003.jpg  \n",
            "  inflating: dairies/Arla-Standard-Milk/Arla-Standard-Milk_004.jpg  \n",
            "  inflating: dairies/Arla-Standard-Milk/Arla-Standard-Milk_005.jpg  \n",
            "   creating: dairies/Garant-Ecological-Medium-Fat-Milk/\n",
            "  inflating: dairies/Garant-Ecological-Medium-Fat-Milk/Garant-Ecological-Medium-Fat-Milk_001.jpg  \n",
            "  inflating: dairies/Garant-Ecological-Medium-Fat-Milk/Garant-Ecological-Medium-Fat-Milk_002.jpg  \n",
            "  inflating: dairies/Garant-Ecological-Medium-Fat-Milk/Garant-Ecological-Medium-Fat-Milk_003.jpg  \n",
            "  inflating: dairies/Garant-Ecological-Medium-Fat-Milk/Garant-Ecological-Medium-Fat-Milk_004.jpg  \n",
            "  inflating: dairies/Garant-Ecological-Medium-Fat-Milk/Garant-Ecological-Medium-Fat-Milk_005.jpg  \n",
            "  inflating: dairies/Garant-Ecological-Medium-Fat-Milk/Garant-Ecological-Medium-Fat-Milk_006.jpg  \n",
            "   creating: dairies/generic/\n",
            "  inflating: dairies/generic/Garant-Ecological-Standard-Milk_001.jpg  \n",
            "  inflating: dairies/generic/Garant-Ecological-Standard-Milk_002.jpg  \n",
            "  inflating: dairies/generic/Garant-Ecological-Standard-Milk_003.jpg  \n",
            "  inflating: dairies/generic/Garant-Ecological-Standard-Milk_004.jpg  \n",
            "  inflating: dairies/generic/Garant-Ecological-Standard-Milk_005.jpg  \n",
            "  inflating: dairies/generic/Garant-Ecological-Standard-Milk_006.jpg  \n",
            "   creating: dairies/generic/Oat-Milk/\n",
            "   creating: dairies/generic/Oat-Milk/Oatly-Oat-Milk/\n",
            "  inflating: dairies/generic/Oat-Milk/Oatly-Oat-Milk/Oatly-Oat-Milk_001.jpg  \n",
            "  inflating: dairies/generic/Oat-Milk/Oatly-Oat-Milk/Oatly-Oat-Milk_002.jpg  \n",
            "  inflating: dairies/generic/Oat-Milk/Oatly-Oat-Milk/Oatly-Oat-Milk_003.jpg  \n",
            "  inflating: dairies/generic/Oat-Milk/Oatly-Oat-Milk/Oatly-Oat-Milk_004.jpg  \n",
            "  inflating: dairies/generic/Oat-Milk/Oatly-Oat-Milk/Oatly-Oat-Milk_005.jpg  \n",
            "   creating: dairies/generic/Oatghurt/\n",
            "   creating: dairies/generic/Oatghurt/Oatly-Natural-Oatghurt/\n",
            "  inflating: dairies/generic/Oatghurt/Oatly-Natural-Oatghurt/Oatly-Natural-Oatghurt_001.jpg  \n",
            "  inflating: dairies/generic/Oatghurt/Oatly-Natural-Oatghurt/Oatly-Natural-Oatghurt_002.jpg  \n",
            "  inflating: dairies/generic/Oatghurt/Oatly-Natural-Oatghurt/Oatly-Natural-Oatghurt_003.jpg  \n",
            "  inflating: dairies/generic/Oatghurt/Oatly-Natural-Oatghurt/Oatly-Natural-Oatghurt_004.jpg  \n",
            "  inflating: dairies/generic/Oatghurt/Oatly-Natural-Oatghurt/Oatly-Natural-Oatghurt_005.jpg  \n"
          ]
        }
      ],
      "source": [
        "!unzip /content/dairies.zip"
      ]
    },
    {
      "cell_type": "code",
      "source": [
        "import os\n",
        "import shutil\n",
        "import csv\n",
        "from PIL import Image\n",
        "from datetime import datetime"
      ],
      "metadata": {
        "id": "1QyvNwWxgt6i"
      },
      "execution_count": 2,
      "outputs": []
    },
    {
      "cell_type": "code",
      "source": [
        "dataset= 'dairies'\n",
        "destinationDairies = 'newDairies'\n",
        "csv_file = 'dairiesReport.csv'"
      ],
      "metadata": {
        "id": "Xf_XYFYJgqk8"
      },
      "execution_count": 9,
      "outputs": []
    },
    {
      "cell_type": "code",
      "source": [
        "if not os.path.exists(destinationDairies):\n",
        "    os.makedirs(destinationDairies)"
      ],
      "metadata": {
        "id": "Xg7GG5ohkzrV"
      },
      "execution_count": 4,
      "outputs": []
    },
    {
      "cell_type": "code",
      "source": [
        "def extract_image_name(filename):\n",
        "    parts = filename.split('-', 1)\n",
        "    if len(parts) > 1:\n",
        "        return parts[1]\n",
        "    else:\n",
        "        return filename"
      ],
      "metadata": {
        "id": "VSJvYe5Rk7YU"
      },
      "execution_count": 5,
      "outputs": []
    },
    {
      "cell_type": "code",
      "source": [
        "with open(csv_file, 'w', newline='') as report:\n",
        "    writer = csv.writer(report)\n",
        "    writer.writerow(['Image Name', 'Image Size', 'Image Modification Data'])\n",
        "\n",
        "    for root, dirs, files in os.walk(dataset):\n",
        "        for file in files:\n",
        "            if file.lower().endswith(('.png', '.jpg', '.jpeg', '.gif')):\n",
        "                source_path = os.path.join(root, file)\n",
        "                destination_path = os.path.join(destinationDairies, file)\n",
        "                shutil.copy2(source_path, destination_path)\n",
        "                image = Image.open(destination_path)\n",
        "                image_name = extract_image_name(file)\n",
        "                image_size = round(os.path.getsize(destination_path) / (1024 ** 2), 2)\n",
        "                last_modified = int(os.path.getmtime(destination_path))\n",
        "                last_modified_formatted = datetime.fromtimestamp(last_modified).strftime('%a %b %d %H:%M:%S %Y')\n",
        "                writer.writerow([image_name, image_size, last_modified_formatted])"
      ],
      "metadata": {
        "id": "84x8OWIYk9cb"
      },
      "execution_count": 10,
      "outputs": []
    }
  ]
}